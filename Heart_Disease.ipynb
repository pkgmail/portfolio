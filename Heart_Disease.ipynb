{
 "cells": [
  {
   "cell_type": "markdown",
   "id": "c39de0e9-a93c-4b8e-a863-496ead67f3f1",
   "metadata": {},
   "source": [
    "## Heart Disease\n",
    "\n",
    "\n",
    "This model is based on K Nearest Neighbour to classify whether the patient has heart disease or not. This file uses preprocessed and clean data that only contains numeric values from our earlier step."
   ]
  },
  {
   "cell_type": "code",
   "execution_count": 1,
   "id": "0b7eeeef-b74d-4d4c-aa1c-ef057f713097",
   "metadata": {},
   "outputs": [],
   "source": [
    "import pandas as pd\n",
    "import numpy as np\n",
    "from sklearn.neighbors import KNeighborsClassifier\n",
    "import matplotlib.pyplot as plt\n",
    "from sklearn import preprocessing\n",
    "from sklearn.model_selection import cross_val_score, GridSearchCV, KFold\n",
    "from sklearn.metrics import classification_report, accuracy_score, confusion_matrix\n",
    "import seaborn as sns\n"
   ]
  },
  {
   "cell_type": "markdown",
   "id": "78543ca7-b11d-47de-b98c-926f92ced614",
   "metadata": {},
   "source": [
    "### Load Training data, Scale and Perform GridSearch\n",
    "\n",
    "Here we perform grid search with k fold cross validation and print the best model."
   ]
  },
  {
   "cell_type": "code",
   "execution_count": 2,
   "id": "fea47e36-1fbe-459a-b76d-a788a4cbcabf",
   "metadata": {},
   "outputs": [],
   "source": [
    "# Load Training Data\n",
    "df_train = pd.read_csv('data/Heart_Disease_train.csv')\n",
    "train_X = df_train.drop(['CHDRisk'], axis = 1)\n",
    "train_y = df_train['CHDRisk']\n",
    "\n",
    "# Scale Training Data\n",
    "train_X = preprocessing.StandardScaler().fit(train_X).transform(train_X.astype(float))\n"
   ]
  },
  {
   "cell_type": "code",
   "execution_count": 12,
   "id": "10fd6e89-c960-48ca-ba04-1323dd9ffa62",
   "metadata": {},
   "outputs": [
    {
     "name": "stdout",
     "output_type": "stream",
     "text": [
      "Best cross-validation score: 0.84731822971549\n",
      "Best hyperparameters: {'n_neighbors': 6, 'p': 2, 'weights': 'uniform'}\n",
      "Accuracy on entire training set using best model: 0.8620335501540568\n",
      "              precision    recall  f1-score   support\n",
      "\n",
      "           0       0.86      0.99      0.92      2471\n",
      "           1       0.81      0.14      0.24       450\n",
      "\n",
      "    accuracy                           0.86      2921\n",
      "   macro avg       0.83      0.57      0.58      2921\n",
      "weighted avg       0.85      0.86      0.82      2921\n",
      "\n"
     ]
    }
   ],
   "source": [
    "# Use GridSearchCV with K Fold cross validation on the training set\n",
    "\n",
    "# Hyperparameters to tune.\n",
    "param_grid = {\n",
    "    'n_neighbors': [3, 4, 5, 6, 7, 8],\n",
    "    'weights': ['uniform', 'distance'],\n",
    "    'p': [1, 2],  # p=1 for Manhattan distance, p=2 for Euclidean distance\n",
    "}\n",
    "\n",
    "\n",
    "knn = KNeighborsClassifier()\n",
    "folds = 5\n",
    "scores = []\n",
    "k_fold = KFold(n_splits=folds, shuffle=True, random_state=42)\n",
    "\n",
    "# Initialize GridSearchCV\n",
    "grid_search = GridSearchCV(estimator=knn, param_grid=param_grid, cv=k_fold, scoring='accuracy')\n",
    "\n",
    "# Perform grid search with cross-validation\n",
    "grid_search.fit(train_X, train_y)\n",
    "\n",
    "# Get the best model\n",
    "best_model = grid_search.best_estimator_\n",
    "best_params = grid_search.best_params_\n",
    "cv_results = grid_search.cv_results_\n",
    "\n",
    "# Print the best score\n",
    "print(\"Best cross-validation score:\", grid_search.best_score_)\n",
    "\n",
    "# Print the best hyperparameters\n",
    "print(\"Best hyperparameters:\", best_params)\n",
    "\n",
    "# Evaluate scope on entire training set using the best model\n",
    "train_y_pred = best_model.predict(train_X)\n",
    "train_accuracy = accuracy_score(train_y, train_y_pred)\n",
    "print(\"Accuracy on entire training set using best model:\", train_accuracy)\n",
    "print(classification_report(train_y, train_y_pred))\n"
   ]
  },
  {
   "cell_type": "markdown",
   "id": "f2c9c25f-4579-4687-b168-b5c7a7134df1",
   "metadata": {},
   "source": [
    "### Load Test data, Scale and test the best model\n",
    "\n"
   ]
  },
  {
   "cell_type": "code",
   "execution_count": 4,
   "id": "c5ad94c8-8eb1-4afe-a550-491954fab83d",
   "metadata": {},
   "outputs": [],
   "source": [
    "# Load Test Data\n",
    "df_test = pd.read_csv('data/Heart_Disease_test.csv')\n",
    "test_X = df_test.drop(['CHDRisk'], axis = 1)\n",
    "test_y = df_test['CHDRisk']\n",
    "\n",
    "# Scale Test Data\n",
    "test_X = preprocessing.StandardScaler().fit(test_X).transform(test_X.astype(float))"
   ]
  },
  {
   "cell_type": "code",
   "execution_count": 22,
   "id": "a2c0ca88-23a4-4bd5-96dd-ddfed1b1ac56",
   "metadata": {},
   "outputs": [
    {
     "name": "stdout",
     "output_type": "stream",
     "text": [
      "Accuracy on test set using best model: 0.7387140902872777\n",
      "              precision    recall  f1-score   support\n",
      "\n",
      "           0       0.87      0.81      0.84       613\n",
      "           1       0.28      0.38      0.32       118\n",
      "\n",
      "    accuracy                           0.74       731\n",
      "   macro avg       0.57      0.59      0.58       731\n",
      "weighted avg       0.78      0.74      0.75       731\n",
      "\n",
      "[[495 118]\n",
      " [ 73  45]]\n"
     ]
    },
    {
     "data": {
      "image/png": "[encoded data removed]",
      "text/plain": [
       "<Figure size 800x600 with 2 Axes>"
      ]
     },
     "metadata": {},
     "output_type": "display_data"
    }
   ],
   "source": [
    "# Evaluate scope on test set using the best model\n",
    "#test_y_pred = best_model.predict(test_X)\n",
    "test_y_pred_probs = best_model.predict_proba(test_X)\n",
    "custom_threshold = 0.33  # Set desired threshold\n",
    "test_y_pred = (test_y_pred_probs[:, 1] >= custom_threshold).astype(int)\n",
    "\n",
    "\n",
    "test_accuracy = accuracy_score(test_y, test_y_pred)\n",
    "\n",
    "\n",
    "# Generate the confusion matrix\n",
    "cm = confusion_matrix(test_y, test_y_pred)\n",
    "print(\"Accuracy on test set using best model:\", test_accuracy)\n",
    "print(classification_report(test_y, test_y_pred))\n",
    "print(cm)\n",
    "\n",
    "\n",
    "\n",
    "# Plot the confusion matrix as a heatmap\n",
    "plt.figure(figsize=(8, 6))\n",
    "sns.heatmap(cm, annot=True, fmt='d', cmap='Reds', xticklabels=np.unique(test_y), yticklabels=np.unique(test_y))\n",
    "plt.xlabel('Predicted Label')\n",
    "plt.ylabel('True Label')\n",
    "plt.title('Confusion Matrix')\n",
    "plt.show()"
   ]
  },
  {
   "cell_type": "code",
   "execution_count": null,
   "id": "c5da9641-a7d6-4001-b5b2-f24d2599ba93",
   "metadata": {},
   "outputs": [],
   "source": []
  }
 ],
 "metadata": {
  "kernelspec": {
   "display_name": "Python 3 (ipykernel)",
   "language": "python",
   "name": "python3"
  },
  "language_info": {
   "codemirror_mode": {
    "name": "ipython",
    "version": 3
   },
   "file_extension": ".py",
   "mimetype": "text/x-python",
   "name": "python",
   "nbconvert_exporter": "python",
   "pygments_lexer": "ipython3",
   "version": "3.11.9"
  }
 },
 "nbformat": 4,
 "nbformat_minor": 5
}
